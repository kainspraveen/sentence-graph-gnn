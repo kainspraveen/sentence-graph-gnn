{
 "cells": [
  {
   "cell_type": "code",
   "execution_count": 13,
   "id": "a7c0400c",
   "metadata": {},
   "outputs": [
    {
     "data": {
      "text/plain": [
       "'Commented lines are already installed -- (In order'"
      ]
     },
     "execution_count": 13,
     "metadata": {},
     "output_type": "execute_result"
    }
   ],
   "source": [
    "#Install packages ADHOC\n",
    "\"\"\"Commented lines are already installed -- (In Order)\"\"\"\n",
    "# !pip install datasets\n",
    "# !pip install huggingface\n",
    "# !pip install torch\n"
   ]
  },
  {
   "cell_type": "code",
   "execution_count": 26,
   "id": "3246596f",
   "metadata": {},
   "outputs": [],
   "source": [
    "from datasets import load_dataset\n",
    "import random"
   ]
  },
  {
   "cell_type": "code",
   "execution_count": 35,
   "id": "282b07fc",
   "metadata": {},
   "outputs": [
    {
     "data": {
      "application/vnd.jupyter.widget-view+json": {
       "model_id": "a4dccad1ccf44ae0822b3206d24313f0",
       "version_major": 2,
       "version_minor": 0
      },
      "text/plain": [
       "Downloading data:   0%|          | 0.00/685k [00:00<?, ?B/s]"
      ]
     },
     "metadata": {},
     "output_type": "display_data"
    },
    {
     "data": {
      "application/vnd.jupyter.widget-view+json": {
       "model_id": "ba7af388cbda4e29ab6d682784f51d0e",
       "version_major": 2,
       "version_minor": 0
      },
      "text/plain": [
       "Downloading data:   0%|          | 0.00/6.07M [00:00<?, ?B/s]"
      ]
     },
     "metadata": {},
     "output_type": "display_data"
    },
    {
     "data": {
      "application/vnd.jupyter.widget-view+json": {
       "model_id": "246ad2de8d0a4835bcea073014272869",
       "version_major": 2,
       "version_minor": 0
      },
      "text/plain": [
       "Downloading data:   0%|          | 0.00/618k [00:00<?, ?B/s]"
      ]
     },
     "metadata": {},
     "output_type": "display_data"
    },
    {
     "data": {
      "application/vnd.jupyter.widget-view+json": {
       "model_id": "562d93b40d6a42c7818c7e48765c9693",
       "version_major": 2,
       "version_minor": 0
      },
      "text/plain": [
       "Generating test split:   0%|          | 0/4358 [00:00<?, ? examples/s]"
      ]
     },
     "metadata": {},
     "output_type": "display_data"
    },
    {
     "data": {
      "application/vnd.jupyter.widget-view+json": {
       "model_id": "0efabfc764b14cbfbf1fe910d103aee4",
       "version_major": 2,
       "version_minor": 0
      },
      "text/plain": [
       "Generating train split:   0%|          | 0/36718 [00:00<?, ? examples/s]"
      ]
     },
     "metadata": {},
     "output_type": "display_data"
    },
    {
     "data": {
      "application/vnd.jupyter.widget-view+json": {
       "model_id": "47e85060c51e4e4ba5622168787b2282",
       "version_major": 2,
       "version_minor": 0
      },
      "text/plain": [
       "Generating validation split:   0%|          | 0/3760 [00:00<?, ? examples/s]"
      ]
     },
     "metadata": {},
     "output_type": "display_data"
    }
   ],
   "source": [
    "\n",
    "dataset = load_dataset(\"wikitext\", \"wikitext-2-v1\")"
   ]
  },
  {
   "cell_type": "code",
   "execution_count": 36,
   "id": "c02c570d",
   "metadata": {},
   "outputs": [
    {
     "name": "stdout",
     "output_type": "stream",
     "text": [
      "Train Data Size: 36718\n",
      "Test Data Size: 4358\n",
      "Validation Data Size: 3760\n"
     ]
    }
   ],
   "source": [
    "print(\n",
    "    f\"\"\"Train Data Size: {len(dataset[\"train\"][\"text\"])}\n",
    "Test Data Size: {len(dataset[\"test\"][\"text\"])}\n",
    "Validation Data Size: {len(dataset[\"validation\"][\"text\"])}\"\"\"\n",
    "     )"
   ]
  },
  {
   "cell_type": "code",
   "execution_count": 41,
   "id": "55abe95f",
   "metadata": {},
   "outputs": [
    {
     "data": {
      "text/plain": [
       "' By the autumn of 1990 , after the first democratic elections in Croatia , the municipal government finally approved the project . An architectural competition was planned for January 1991 . Political turmoil in the country , followed by the breakup of Yugoslavia and the Croatian War of Independence ( 1991 – 1995 ) , caused the project to be put on hold again . In 1994 President of Croatia Franjo Tuđman said to <unk> <unk> , Council member of the Zagreb Jewish community , that they should build the new synagogue at the site of the former synagogue , which will be funded by the Croatian government . <unk> declined the offer believing to be inappropriate when 1800 Catholic churches are left destroyed at the time , during Croatian War of Independence . \\n'"
      ]
     },
     "execution_count": 41,
     "metadata": {},
     "output_type": "execute_result"
    }
   ],
   "source": [
    "dataset[\"train\"][\"text\"][random.randint(0,3678)]"
   ]
  },
  {
   "cell_type": "code",
   "execution_count": 42,
   "id": "6024fa41",
   "metadata": {},
   "outputs": [],
   "source": [
    "def clean_text():\n",
    "    pass"
   ]
  },
  {
   "cell_type": "markdown",
   "id": "1f721d55",
   "metadata": {},
   "source": [
    "# Sentence Graphs - Background\n",
    "\n",
    "### 1. Reed-Kellogg system\n",
    "Simple sentences in the Reed–Kellogg system are diagrammed according to these forms:\n",
    "\n",
    "![image info](./sentence-diagram1.jpg)\n",
    "\n",
    "<center>Basic Reed–Kellogg schema</center>\n",
    "\n",
    "The diagram of a simple sentence begins with a horizontal line called the base. The subject is written on the left, the predicate on the right, separated by a vertical bar that extends through the base.\n",
    "\n",
    "The predicate must contain a verb, and the verb either requires other sentence elements to complete the predicate, permits them to do so, or precludes them from doing so. The verb and its object, when present, are separated by a line that ends at the baseline. If the object is a direct object, the line is vertical. If the object is a predicate noun or adjective, the line looks like a backslash, \\, sloping toward the subject.\n",
    "\n",
    "### 2. Parse Trees (Constituence-based Parse Tree)\n",
    "A parse tree is an ordered, rooted tree that represents the syntactic structure of a string according to some context-free grammar.\n",
    "\n",
    "Parse trees are usually constructed based on either the constituency relation of constituency grammars (phrase structure grammars) or the dependency relation of dependency grammars. Parse trees may be generated for sentences in natural languages, as well as during processing programming languages.\n",
    "\n",
    "![image info](./parse_tree_1.jpg)\n",
    "\n",
    "<center>Simple Parse Tree</center>\n",
    "\n",
    "The parse tree is the entire structure, starting from S and ending in each of the leaf nodes (John, hit, the, ball). The following abbreviations are used in the tree:\n",
    "<ul>\n",
    "<li>S for sentence, the top-level structure in this example</li>\n",
    "<li>NP for noun phrase. The first (leftmost) NP, a single noun \"John\", serves as the subject of the sentence. The second one is the object of the sentence.</li>\n",
    "    <li>VP for verb phrase, which serves as the predicate</li>\n",
    "    <li>V for verb. In this case, it's a transitive verb hit.</li>\n",
    "    <li>D for determiner, in this instance the definite article \"the\"</li>\n",
    "    <li>N for noun</li>\n",
    "</ul>\n",
    "\n",
    "#### Web app for parsing sentences: https://corenlp.run\n",
    "#### stanford corenlp github: https://stanfordnlp.github.io/CoreNLP/cmdline.html#using-corenlp-as-a-filter-in-a-pipe"
   ]
  },
  {
   "cell_type": "code",
   "execution_count": null,
   "id": "07c37675",
   "metadata": {},
   "outputs": [],
   "source": [
    "#CORE NLP server\n",
    "\n",
    "'''\n",
    "A sample code usage of the python package stanfordcorenlp to access a Stanford CoreNLP server.\n",
    "Written as part of the blog post: https://www.khalidalnajjar.com/how-to-setup-and-use-stanford-corenlp-server-with-python/ \n",
    "'''\n",
    "\n",
    "from stanfordcorenlp import StanfordCoreNLP\n",
    "import logging\n",
    "import json\n",
    "\n",
    "class StanfordNLP:\n",
    "    def __init__(self, host='http://localhost', port=9000):\n",
    "        self.nlp = StanfordCoreNLP(host, port=port,\n",
    "                                   timeout=30000)  # , quiet=False, logging_level=logging.DEBUG)\n",
    "        self.props = {\n",
    "            'annotators': 'tokenize,ssplit,pos,lemma,ner,parse,depparse,dcoref,relation',\n",
    "            'pipelineLanguage': 'en',\n",
    "            'outputFormat': 'json'\n",
    "        }\n",
    "\n",
    "    def word_tokenize(self, sentence):\n",
    "        return self.nlp.word_tokenize(sentence)\n",
    "\n",
    "    def pos(self, sentence):\n",
    "        return self.nlp.pos_tag(sentence)\n",
    "\n",
    "    def ner(self, sentence):\n",
    "        return self.nlp.ner(sentence)\n",
    "\n",
    "    def parse(self, sentence):\n",
    "        return self.nlp.parse(sentence)\n",
    "\n",
    "    def dependency_parse(self, sentence):\n",
    "        return self.nlp.dependency_parse(sentence)\n",
    "\n",
    "    def annotate(self, sentence):\n",
    "        return json.loads(self.nlp.annotate(sentence, properties=self.props))\n",
    "\n",
    "    @staticmethod\n",
    "    def tokens_to_dict(_tokens):\n",
    "        tokens = defaultdict(dict)\n",
    "        for token in _tokens:\n",
    "            tokens[int(token['index'])] = {\n",
    "                'word': token['word'],\n",
    "                'lemma': token['lemma'],\n",
    "                'pos': token['pos'],\n",
    "                'ner': token['ner']\n",
    "            }\n",
    "        return tokens\n",
    "\n"
   ]
  },
  {
   "cell_type": "code",
   "execution_count": null,
   "id": "a7d5bb69",
   "metadata": {},
   "outputs": [],
   "source": []
  },
  {
   "cell_type": "code",
   "execution_count": null,
   "id": "66b22372",
   "metadata": {},
   "outputs": [],
   "source": []
  },
  {
   "cell_type": "code",
   "execution_count": null,
   "id": "f9378d3a",
   "metadata": {},
   "outputs": [],
   "source": []
  },
  {
   "cell_type": "code",
   "execution_count": null,
   "id": "7e9a2983",
   "metadata": {},
   "outputs": [],
   "source": []
  },
  {
   "cell_type": "code",
   "execution_count": null,
   "id": "d549178d",
   "metadata": {},
   "outputs": [],
   "source": []
  },
  {
   "cell_type": "code",
   "execution_count": null,
   "id": "8047d44f",
   "metadata": {},
   "outputs": [],
   "source": []
  },
  {
   "cell_type": "code",
   "execution_count": null,
   "id": "c31bf142",
   "metadata": {},
   "outputs": [],
   "source": []
  },
  {
   "cell_type": "code",
   "execution_count": null,
   "id": "b19d077a",
   "metadata": {},
   "outputs": [],
   "source": []
  },
  {
   "cell_type": "code",
   "execution_count": null,
   "id": "094a1745",
   "metadata": {},
   "outputs": [],
   "source": []
  }
 ],
 "metadata": {
  "kernelspec": {
   "display_name": "Python 3 (ipykernel)",
   "language": "python",
   "name": "python3"
  },
  "language_info": {
   "codemirror_mode": {
    "name": "ipython",
    "version": 3
   },
   "file_extension": ".py",
   "mimetype": "text/x-python",
   "name": "python",
   "nbconvert_exporter": "python",
   "pygments_lexer": "ipython3",
   "version": "3.10.9"
  }
 },
 "nbformat": 4,
 "nbformat_minor": 5
}
